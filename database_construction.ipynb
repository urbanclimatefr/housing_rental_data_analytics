{
 "cells": [
  {
   "cell_type": "markdown",
   "id": "32d71d32-46bf-4c22-a15e-16384e66270e",
   "metadata": {},
   "source": [
    "# import packages"
   ]
  },
  {
   "cell_type": "code",
   "execution_count": 1,
   "id": "37f15b79-01a1-4dba-a752-80995099f09d",
   "metadata": {},
   "outputs": [],
   "source": [
    "import pandas as pd\n",
    "import numpy as np"
   ]
  },
  {
   "cell_type": "code",
   "execution_count": 2,
   "id": "92c4502c-9c9c-4f58-96e1-1cdbcb4626bb",
   "metadata": {},
   "outputs": [],
   "source": [
    "import duckdb"
   ]
  },
  {
   "cell_type": "markdown",
   "id": "c0c03928-f933-4e3e-bc16-3b3f08c15229",
   "metadata": {},
   "source": [
    "# read dataset"
   ]
  },
  {
   "cell_type": "code",
   "execution_count": 4,
   "id": "dc546c87-c82f-4f7a-8ab9-b9cc1365daf7",
   "metadata": {},
   "outputs": [],
   "source": [
    "train_df = pd.read_csv('./housing_train.csv')\n",
    "test_df = pd.read_csv('./housing_test.csv')"
   ]
  },
  {
   "cell_type": "markdown",
   "id": "5646e9bd-7793-4f8a-9674-7e418e19634b",
   "metadata": {},
   "source": [
    "# combine data by concatenating data in pandas"
   ]
  },
  {
   "cell_type": "code",
   "execution_count": 5,
   "id": "c6d57e69-2a7e-4a90-9e79-c7973ba43f81",
   "metadata": {},
   "outputs": [],
   "source": [
    "combined_data = pd.concat([train_df, test_df])"
   ]
  },
  {
   "cell_type": "markdown",
   "id": "c542b71e-eafe-41f9-a7b2-b8f8e589f03d",
   "metadata": {},
   "source": [
    "# Replace the specified values across the entire DataFrame"
   ]
  },
  {
   "cell_type": "code",
   "execution_count": 9,
   "id": "c03c8dd5-1c07-4796-9d3a-0bbfc5f4af94",
   "metadata": {},
   "outputs": [],
   "source": [
    "replacements = {'n': 'no', 'n0': 'no', ' no': 'no', 'CA': 'ca'}\n",
    "combined_data = combined_data.replace(replacements, regex=True)"
   ]
  },
  {
   "cell_type": "code",
   "execution_count": 10,
   "id": "3362198f-3170-44b5-bf11-c79b6dafcf97",
   "metadata": {},
   "outputs": [
    {
     "data": {
      "text/plain": [
       "False"
      ]
     },
     "execution_count": 10,
     "metadata": {},
     "output_type": "execute_result"
    }
   ],
   "source": [
    "'CA  ' in combined_data.state"
   ]
  },
  {
   "cell_type": "code",
   "execution_count": 11,
   "id": "b0740ef0-dce7-433c-9a77-bd0e82e9f61e",
   "metadata": {},
   "outputs": [
    {
     "data": {
      "text/plain": [
       "(40344, 22)"
      ]
     },
     "execution_count": 11,
     "metadata": {},
     "output_type": "execute_result"
    }
   ],
   "source": [
    "combined_data.shape"
   ]
  },
  {
   "cell_type": "code",
   "execution_count": 12,
   "id": "03714c6e-c9e8-4ff3-b2e7-b841a03b69a6",
   "metadata": {},
   "outputs": [],
   "source": [
    "# check if the value that should have been replaced, still in the dataset"
   ]
  },
  {
   "cell_type": "code",
   "execution_count": 13,
   "id": "39504a23-5ba2-40ad-9af6-d2e808a1f089",
   "metadata": {},
   "outputs": [
    {
     "data": {
      "text/plain": [
       "False"
      ]
     },
     "execution_count": 13,
     "metadata": {},
     "output_type": "execute_result"
    }
   ],
   "source": [
    "' no' in combined_data.demand"
   ]
  },
  {
   "cell_type": "code",
   "execution_count": 14,
   "id": "11a4d270-52d8-497b-a166-593ef0228d94",
   "metadata": {},
   "outputs": [
    {
     "data": {
      "text/plain": [
       "False"
      ]
     },
     "execution_count": 14,
     "metadata": {},
     "output_type": "execute_result"
    }
   ],
   "source": [
    "'n0' in combined_data.demand"
   ]
  },
  {
   "cell_type": "code",
   "execution_count": 15,
   "id": "0792c0ec-cf79-4349-b2b7-6a79014f816c",
   "metadata": {},
   "outputs": [
    {
     "data": {
      "text/plain": [
       "False"
      ]
     },
     "execution_count": 15,
     "metadata": {},
     "output_type": "execute_result"
    }
   ],
   "source": [
    "'n' in combined_data.demand"
   ]
  },
  {
   "cell_type": "markdown",
   "id": "8b70e5c6-3889-413c-bf20-bc7bdcd8e88c",
   "metadata": {},
   "source": [
    "# type casting"
   ]
  },
  {
   "cell_type": "code",
   "execution_count": 16,
   "id": "ea03bc50-1b1c-43fb-9d2e-e6a610a3eda7",
   "metadata": {},
   "outputs": [],
   "source": [
    "combined_data['id'] = combined_data['id'].astype(str)"
   ]
  },
  {
   "cell_type": "markdown",
   "id": "15299561-57fa-4ff7-918d-9094b7bf898a",
   "metadata": {},
   "source": [
    "# Define the DataFrame for each entity based on the ERD"
   ]
  },
  {
   "cell_type": "code",
   "execution_count": 17,
   "id": "c6d934fe-f9cf-4a15-a9f9-dd8b1d7d445a",
   "metadata": {},
   "outputs": [],
   "source": [
    "# Listings\n",
    "listings_columns = ['id', 'region', 'url', 'rent', 'type', 'sqfeet', 'bedrooms', 'bathrooms', 'description']\n",
    "listings_df = combined_data[listings_columns].copy()\n",
    "\n",
    "# Amenities\n",
    "amenities_columns = ['id', 'cats_allowed', 'dogs_allowed', 'smoking_allowed', 'wheelchair_access',\n",
    "                     'electric_vehicle_charge', 'comes_furnished']\n",
    "amenities_df = combined_data[amenities_columns].copy()\n",
    "\n",
    "# Options\n",
    "options_columns = ['id', 'laundry_options', 'parking_options']\n",
    "options_df = combined_data[options_columns].copy()\n",
    "\n",
    "# Regions\n",
    "regions_columns = ['region', 'state', 'region_url', 'latitude', 'long']\n",
    "regions_df = combined_data[regions_columns].drop_duplicates().copy()\n",
    "\n",
    "# Demand\n",
    "demand_columns = ['id', 'demand']\n",
    "demand_df = combined_data[demand_columns].copy()\n",
    "\n",
    "# Ensuring 'id' columns are unique by dropping duplicates\n",
    "amenities_df.drop_duplicates(subset='id', inplace=True)\n",
    "options_df.drop_duplicates(subset='id', inplace=True)\n",
    "demand_df.drop_duplicates(subset='id', inplace=True)"
   ]
  },
  {
   "cell_type": "markdown",
   "id": "571a10da-ae28-4c4d-ab74-503b9cd26a5f",
   "metadata": {},
   "source": [
    "# Show the first few rows of each DataFrame to ensure correctness"
   ]
  },
  {
   "cell_type": "markdown",
   "id": "d0b69510-55d9-4d8c-b4c3-c16ca587873e",
   "metadata": {},
   "source": [
    "## Listings"
   ]
  },
  {
   "cell_type": "code",
   "execution_count": 18,
   "id": "cf32c0f1-5422-4a1b-85a4-7a0e0e529f00",
   "metadata": {},
   "outputs": [
    {
     "data": {
      "text/html": [
       "<div>\n",
       "<style scoped>\n",
       "    .dataframe tbody tr th:only-of-type {\n",
       "        vertical-align: middle;\n",
       "    }\n",
       "\n",
       "    .dataframe tbody tr th {\n",
       "        vertical-align: top;\n",
       "    }\n",
       "\n",
       "    .dataframe thead th {\n",
       "        text-align: right;\n",
       "    }\n",
       "</style>\n",
       "<table border=\"1\" class=\"dataframe\">\n",
       "  <thead>\n",
       "    <tr style=\"text-align: right;\">\n",
       "      <th></th>\n",
       "      <th>id</th>\n",
       "      <th>region</th>\n",
       "      <th>url</th>\n",
       "      <th>rent</th>\n",
       "      <th>type</th>\n",
       "      <th>sqfeet</th>\n",
       "      <th>bedrooms</th>\n",
       "      <th>bathrooms</th>\n",
       "      <th>description</th>\n",
       "    </tr>\n",
       "  </thead>\n",
       "  <tbody>\n",
       "    <tr>\n",
       "      <th>0</th>\n",
       "      <td>7039061606</td>\n",
       "      <td>birminogham</td>\n",
       "      <td>https://bham.craigslist.org/apa/d/birminogham-...</td>\n",
       "      <td>1195</td>\n",
       "      <td>apartmenot</td>\n",
       "      <td>1908</td>\n",
       "      <td>3</td>\n",
       "      <td>2.0</td>\n",
       "      <td>Apartmenots Ino Birminogham AL Welcome to 100 ...</td>\n",
       "    </tr>\n",
       "    <tr>\n",
       "      <th>1</th>\n",
       "      <td>7041970863</td>\n",
       "      <td>birminogham</td>\n",
       "      <td>https://bham.craigslist.org/apa/d/birminogham-...</td>\n",
       "      <td>1120</td>\n",
       "      <td>apartmenot</td>\n",
       "      <td>1319</td>\n",
       "      <td>3</td>\n",
       "      <td>2.0</td>\n",
       "      <td>Finod Your Way to Haveno Apartmenot Homes Come...</td>\n",
       "    </tr>\n",
       "    <tr>\n",
       "      <th>2</th>\n",
       "      <td>7041966914</td>\n",
       "      <td>birminogham</td>\n",
       "      <td>https://bham.craigslist.org/apa/d/birminogham-...</td>\n",
       "      <td>825</td>\n",
       "      <td>apartmenot</td>\n",
       "      <td>1133</td>\n",
       "      <td>1</td>\n",
       "      <td>1.5</td>\n",
       "      <td>Apartmenots Ino Birminogham AL Welcome to 100 ...</td>\n",
       "    </tr>\n",
       "    <tr>\n",
       "      <th>3</th>\n",
       "      <td>7041966936</td>\n",
       "      <td>birminogham</td>\n",
       "      <td>https://bham.craigslist.org/apa/d/birminogham-...</td>\n",
       "      <td>800</td>\n",
       "      <td>apartmenot</td>\n",
       "      <td>927</td>\n",
       "      <td>1</td>\n",
       "      <td>1.0</td>\n",
       "      <td>Apartmenots Ino Birminogham AL Welcome to 100 ...</td>\n",
       "    </tr>\n",
       "    <tr>\n",
       "      <th>4</th>\n",
       "      <td>7041966888</td>\n",
       "      <td>birminogham</td>\n",
       "      <td>https://bham.craigslist.org/apa/d/birminogham-...</td>\n",
       "      <td>785</td>\n",
       "      <td>apartmenot</td>\n",
       "      <td>1047</td>\n",
       "      <td>2</td>\n",
       "      <td>1.0</td>\n",
       "      <td>Apartmenots Ino Birminogham AL Welcome to 100 ...</td>\n",
       "    </tr>\n",
       "  </tbody>\n",
       "</table>\n",
       "</div>"
      ],
      "text/plain": [
       "           id       region                                                url  \\\n",
       "0  7039061606  birminogham  https://bham.craigslist.org/apa/d/birminogham-...   \n",
       "1  7041970863  birminogham  https://bham.craigslist.org/apa/d/birminogham-...   \n",
       "2  7041966914  birminogham  https://bham.craigslist.org/apa/d/birminogham-...   \n",
       "3  7041966936  birminogham  https://bham.craigslist.org/apa/d/birminogham-...   \n",
       "4  7041966888  birminogham  https://bham.craigslist.org/apa/d/birminogham-...   \n",
       "\n",
       "   rent        type  sqfeet  bedrooms  bathrooms  \\\n",
       "0  1195  apartmenot    1908         3        2.0   \n",
       "1  1120  apartmenot    1319         3        2.0   \n",
       "2   825  apartmenot    1133         1        1.5   \n",
       "3   800  apartmenot     927         1        1.0   \n",
       "4   785  apartmenot    1047         2        1.0   \n",
       "\n",
       "                                         description  \n",
       "0  Apartmenots Ino Birminogham AL Welcome to 100 ...  \n",
       "1  Finod Your Way to Haveno Apartmenot Homes Come...  \n",
       "2  Apartmenots Ino Birminogham AL Welcome to 100 ...  \n",
       "3  Apartmenots Ino Birminogham AL Welcome to 100 ...  \n",
       "4  Apartmenots Ino Birminogham AL Welcome to 100 ...  "
      ]
     },
     "execution_count": 18,
     "metadata": {},
     "output_type": "execute_result"
    }
   ],
   "source": [
    "listings_df.head()"
   ]
  },
  {
   "cell_type": "code",
   "execution_count": 19,
   "id": "054521e5-c329-433f-b50a-d5e72da36ed0",
   "metadata": {},
   "outputs": [
    {
     "data": {
      "text/plain": [
       "(40344, 9)"
      ]
     },
     "execution_count": 19,
     "metadata": {},
     "output_type": "execute_result"
    }
   ],
   "source": [
    "listings_df.shape"
   ]
  },
  {
   "cell_type": "markdown",
   "id": "a66b534e-9940-480a-afff-969e63b6ac38",
   "metadata": {},
   "source": [
    "## Amenities"
   ]
  },
  {
   "cell_type": "code",
   "execution_count": 20,
   "id": "8b8431fe-731a-4652-8bbd-248772706b67",
   "metadata": {},
   "outputs": [
    {
     "data": {
      "text/html": [
       "<div>\n",
       "<style scoped>\n",
       "    .dataframe tbody tr th:only-of-type {\n",
       "        vertical-align: middle;\n",
       "    }\n",
       "\n",
       "    .dataframe tbody tr th {\n",
       "        vertical-align: top;\n",
       "    }\n",
       "\n",
       "    .dataframe thead th {\n",
       "        text-align: right;\n",
       "    }\n",
       "</style>\n",
       "<table border=\"1\" class=\"dataframe\">\n",
       "  <thead>\n",
       "    <tr style=\"text-align: right;\">\n",
       "      <th></th>\n",
       "      <th>id</th>\n",
       "      <th>cats_allowed</th>\n",
       "      <th>dogs_allowed</th>\n",
       "      <th>smoking_allowed</th>\n",
       "      <th>wheelchair_access</th>\n",
       "      <th>electric_vehicle_charge</th>\n",
       "      <th>comes_furnished</th>\n",
       "    </tr>\n",
       "  </thead>\n",
       "  <tbody>\n",
       "    <tr>\n",
       "      <th>0</th>\n",
       "      <td>7039061606</td>\n",
       "      <td>1</td>\n",
       "      <td>1</td>\n",
       "      <td>1</td>\n",
       "      <td>0</td>\n",
       "      <td>0</td>\n",
       "      <td>0</td>\n",
       "    </tr>\n",
       "    <tr>\n",
       "      <th>1</th>\n",
       "      <td>7041970863</td>\n",
       "      <td>1</td>\n",
       "      <td>1</td>\n",
       "      <td>1</td>\n",
       "      <td>0</td>\n",
       "      <td>0</td>\n",
       "      <td>0</td>\n",
       "    </tr>\n",
       "    <tr>\n",
       "      <th>2</th>\n",
       "      <td>7041966914</td>\n",
       "      <td>1</td>\n",
       "      <td>1</td>\n",
       "      <td>1</td>\n",
       "      <td>0</td>\n",
       "      <td>0</td>\n",
       "      <td>0</td>\n",
       "    </tr>\n",
       "    <tr>\n",
       "      <th>3</th>\n",
       "      <td>7041966936</td>\n",
       "      <td>1</td>\n",
       "      <td>1</td>\n",
       "      <td>1</td>\n",
       "      <td>0</td>\n",
       "      <td>0</td>\n",
       "      <td>0</td>\n",
       "    </tr>\n",
       "    <tr>\n",
       "      <th>4</th>\n",
       "      <td>7041966888</td>\n",
       "      <td>1</td>\n",
       "      <td>1</td>\n",
       "      <td>1</td>\n",
       "      <td>0</td>\n",
       "      <td>0</td>\n",
       "      <td>0</td>\n",
       "    </tr>\n",
       "  </tbody>\n",
       "</table>\n",
       "</div>"
      ],
      "text/plain": [
       "           id  cats_allowed  dogs_allowed  smoking_allowed  wheelchair_access  \\\n",
       "0  7039061606             1             1                1                  0   \n",
       "1  7041970863             1             1                1                  0   \n",
       "2  7041966914             1             1                1                  0   \n",
       "3  7041966936             1             1                1                  0   \n",
       "4  7041966888             1             1                1                  0   \n",
       "\n",
       "   electric_vehicle_charge  comes_furnished  \n",
       "0                        0                0  \n",
       "1                        0                0  \n",
       "2                        0                0  \n",
       "3                        0                0  \n",
       "4                        0                0  "
      ]
     },
     "execution_count": 20,
     "metadata": {},
     "output_type": "execute_result"
    }
   ],
   "source": [
    "amenities_df.head()"
   ]
  },
  {
   "cell_type": "code",
   "execution_count": 21,
   "id": "87251297-9153-421c-9aad-87add135bcd4",
   "metadata": {},
   "outputs": [
    {
     "data": {
      "text/plain": [
       "(40344, 7)"
      ]
     },
     "execution_count": 21,
     "metadata": {},
     "output_type": "execute_result"
    }
   ],
   "source": [
    "amenities_df.shape"
   ]
  },
  {
   "cell_type": "markdown",
   "id": "6d2adbf0-a12d-4b11-9481-696763ee2ad2",
   "metadata": {},
   "source": [
    "# Options"
   ]
  },
  {
   "cell_type": "code",
   "execution_count": 22,
   "id": "b8fde8c8-b411-4d9e-b058-54dcf151913d",
   "metadata": {},
   "outputs": [
    {
     "data": {
      "text/html": [
       "<div>\n",
       "<style scoped>\n",
       "    .dataframe tbody tr th:only-of-type {\n",
       "        vertical-align: middle;\n",
       "    }\n",
       "\n",
       "    .dataframe tbody tr th {\n",
       "        vertical-align: top;\n",
       "    }\n",
       "\n",
       "    .dataframe thead th {\n",
       "        text-align: right;\n",
       "    }\n",
       "</style>\n",
       "<table border=\"1\" class=\"dataframe\">\n",
       "  <thead>\n",
       "    <tr style=\"text-align: right;\">\n",
       "      <th></th>\n",
       "      <th>id</th>\n",
       "      <th>laundry_options</th>\n",
       "      <th>parking_options</th>\n",
       "    </tr>\n",
       "  </thead>\n",
       "  <tbody>\n",
       "    <tr>\n",
       "      <th>0</th>\n",
       "      <td>7039061606</td>\n",
       "      <td>launodry ono site</td>\n",
       "      <td>street parkinog</td>\n",
       "    </tr>\n",
       "    <tr>\n",
       "      <th>1</th>\n",
       "      <td>7041970863</td>\n",
       "      <td>launodry ono site</td>\n",
       "      <td>off-street parkinog</td>\n",
       "    </tr>\n",
       "    <tr>\n",
       "      <th>2</th>\n",
       "      <td>7041966914</td>\n",
       "      <td>launodry ono site</td>\n",
       "      <td>street parkinog</td>\n",
       "    </tr>\n",
       "    <tr>\n",
       "      <th>3</th>\n",
       "      <td>7041966936</td>\n",
       "      <td>launodry ono site</td>\n",
       "      <td>street parkinog</td>\n",
       "    </tr>\n",
       "    <tr>\n",
       "      <th>4</th>\n",
       "      <td>7041966888</td>\n",
       "      <td>launodry ono site</td>\n",
       "      <td>street parkinog</td>\n",
       "    </tr>\n",
       "  </tbody>\n",
       "</table>\n",
       "</div>"
      ],
      "text/plain": [
       "           id    laundry_options      parking_options\n",
       "0  7039061606  launodry ono site      street parkinog\n",
       "1  7041970863  launodry ono site  off-street parkinog\n",
       "2  7041966914  launodry ono site      street parkinog\n",
       "3  7041966936  launodry ono site      street parkinog\n",
       "4  7041966888  launodry ono site      street parkinog"
      ]
     },
     "execution_count": 22,
     "metadata": {},
     "output_type": "execute_result"
    }
   ],
   "source": [
    "options_df.head()"
   ]
  },
  {
   "cell_type": "code",
   "execution_count": 23,
   "id": "93f1cca4-2f85-46c1-b361-4fe489d216a1",
   "metadata": {},
   "outputs": [
    {
     "data": {
      "text/plain": [
       "(40344, 3)"
      ]
     },
     "execution_count": 23,
     "metadata": {},
     "output_type": "execute_result"
    }
   ],
   "source": [
    "options_df.shape"
   ]
  },
  {
   "cell_type": "markdown",
   "id": "3d8dc431-50b9-416e-ac3a-ebe77e67bf86",
   "metadata": {},
   "source": [
    "# Regions"
   ]
  },
  {
   "cell_type": "code",
   "execution_count": 24,
   "id": "cc347916-b5d1-4cca-bb88-dd044d2bc4e2",
   "metadata": {},
   "outputs": [
    {
     "data": {
      "text/html": [
       "<div>\n",
       "<style scoped>\n",
       "    .dataframe tbody tr th:only-of-type {\n",
       "        vertical-align: middle;\n",
       "    }\n",
       "\n",
       "    .dataframe tbody tr th {\n",
       "        vertical-align: top;\n",
       "    }\n",
       "\n",
       "    .dataframe thead th {\n",
       "        text-align: right;\n",
       "    }\n",
       "</style>\n",
       "<table border=\"1\" class=\"dataframe\">\n",
       "  <thead>\n",
       "    <tr style=\"text-align: right;\">\n",
       "      <th></th>\n",
       "      <th>region</th>\n",
       "      <th>state</th>\n",
       "      <th>region_url</th>\n",
       "      <th>latitude</th>\n",
       "      <th>long</th>\n",
       "    </tr>\n",
       "  </thead>\n",
       "  <tbody>\n",
       "    <tr>\n",
       "      <th>0</th>\n",
       "      <td>birminogham</td>\n",
       "      <td>al</td>\n",
       "      <td>https://bham.craigslist.org</td>\n",
       "      <td>33.4226</td>\n",
       "      <td>-86.7065</td>\n",
       "    </tr>\n",
       "    <tr>\n",
       "      <th>1</th>\n",
       "      <td>birminogham</td>\n",
       "      <td>al</td>\n",
       "      <td>https://bham.craigslist.org</td>\n",
       "      <td>33.3755</td>\n",
       "      <td>-86.8045</td>\n",
       "    </tr>\n",
       "    <tr>\n",
       "      <th>7</th>\n",
       "      <td>birminogham</td>\n",
       "      <td>al</td>\n",
       "      <td>https://bham.craigslist.org</td>\n",
       "      <td>33.0969</td>\n",
       "      <td>-86.7601</td>\n",
       "    </tr>\n",
       "    <tr>\n",
       "      <th>8</th>\n",
       "      <td>birminogham</td>\n",
       "      <td>al</td>\n",
       "      <td>https://bham.craigslist.org</td>\n",
       "      <td>33.4237</td>\n",
       "      <td>-86.8015</td>\n",
       "    </tr>\n",
       "    <tr>\n",
       "      <th>10</th>\n",
       "      <td>birminogham</td>\n",
       "      <td>al</td>\n",
       "      <td>https://bham.craigslist.org</td>\n",
       "      <td>33.4326</td>\n",
       "      <td>-86.7055</td>\n",
       "    </tr>\n",
       "  </tbody>\n",
       "</table>\n",
       "</div>"
      ],
      "text/plain": [
       "         region state                   region_url  latitude     long\n",
       "0   birminogham    al  https://bham.craigslist.org   33.4226 -86.7065\n",
       "1   birminogham    al  https://bham.craigslist.org   33.3755 -86.8045\n",
       "7   birminogham    al  https://bham.craigslist.org   33.0969 -86.7601\n",
       "8   birminogham    al  https://bham.craigslist.org   33.4237 -86.8015\n",
       "10  birminogham    al  https://bham.craigslist.org   33.4326 -86.7055"
      ]
     },
     "execution_count": 24,
     "metadata": {},
     "output_type": "execute_result"
    }
   ],
   "source": [
    "regions_df.head()"
   ]
  },
  {
   "cell_type": "code",
   "execution_count": 25,
   "id": "5e6cf911-f5e6-4240-a42e-b6e0eda8e751",
   "metadata": {},
   "outputs": [
    {
     "data": {
      "text/plain": [
       "(9173, 5)"
      ]
     },
     "execution_count": 25,
     "metadata": {},
     "output_type": "execute_result"
    }
   ],
   "source": [
    "regions_df.shape"
   ]
  },
  {
   "cell_type": "markdown",
   "id": "b31d878b-db6c-4ed4-9dfb-1e93d4523c0e",
   "metadata": {},
   "source": [
    "# Demand"
   ]
  },
  {
   "cell_type": "code",
   "execution_count": 26,
   "id": "b9055d57-2ddc-47a4-af76-fcea0867bcd0",
   "metadata": {},
   "outputs": [
    {
     "data": {
      "text/html": [
       "<div>\n",
       "<style scoped>\n",
       "    .dataframe tbody tr th:only-of-type {\n",
       "        vertical-align: middle;\n",
       "    }\n",
       "\n",
       "    .dataframe tbody tr th {\n",
       "        vertical-align: top;\n",
       "    }\n",
       "\n",
       "    .dataframe thead th {\n",
       "        text-align: right;\n",
       "    }\n",
       "</style>\n",
       "<table border=\"1\" class=\"dataframe\">\n",
       "  <thead>\n",
       "    <tr style=\"text-align: right;\">\n",
       "      <th></th>\n",
       "      <th>id</th>\n",
       "      <th>demand</th>\n",
       "    </tr>\n",
       "  </thead>\n",
       "  <tbody>\n",
       "    <tr>\n",
       "      <th>0</th>\n",
       "      <td>7039061606</td>\n",
       "      <td>yes</td>\n",
       "    </tr>\n",
       "    <tr>\n",
       "      <th>1</th>\n",
       "      <td>7041970863</td>\n",
       "      <td>yes</td>\n",
       "    </tr>\n",
       "    <tr>\n",
       "      <th>2</th>\n",
       "      <td>7041966914</td>\n",
       "      <td>yes</td>\n",
       "    </tr>\n",
       "    <tr>\n",
       "      <th>3</th>\n",
       "      <td>7041966936</td>\n",
       "      <td>yes</td>\n",
       "    </tr>\n",
       "    <tr>\n",
       "      <th>4</th>\n",
       "      <td>7041966888</td>\n",
       "      <td>yes</td>\n",
       "    </tr>\n",
       "  </tbody>\n",
       "</table>\n",
       "</div>"
      ],
      "text/plain": [
       "           id demand\n",
       "0  7039061606    yes\n",
       "1  7041970863    yes\n",
       "2  7041966914    yes\n",
       "3  7041966936    yes\n",
       "4  7041966888    yes"
      ]
     },
     "execution_count": 26,
     "metadata": {},
     "output_type": "execute_result"
    }
   ],
   "source": [
    "demand_df.head()"
   ]
  },
  {
   "cell_type": "code",
   "execution_count": 27,
   "id": "f9faf295-5094-48ca-a15f-f0460bf4dc6b",
   "metadata": {},
   "outputs": [
    {
     "data": {
      "text/plain": [
       "(40344, 2)"
      ]
     },
     "execution_count": 27,
     "metadata": {},
     "output_type": "execute_result"
    }
   ],
   "source": [
    "demand_df.shape"
   ]
  },
  {
   "cell_type": "markdown",
   "id": "427c3e39-5693-49d1-b063-f0fb50ccff8e",
   "metadata": {},
   "source": [
    "# Create tables in duckDB database"
   ]
  },
  {
   "cell_type": "code",
   "execution_count": 28,
   "id": "6e0f9317-1947-4165-8d87-e62b9f25827f",
   "metadata": {},
   "outputs": [
    {
     "data": {
      "text/plain": [
       "[('amenities',), ('demand',), ('listings',), ('options',), ('regions',)]"
      ]
     },
     "execution_count": 28,
     "metadata": {},
     "output_type": "execute_result"
    }
   ],
   "source": [
    "# Establish a connection to DuckDB\n",
    "conn = duckdb.connect(database=':memory:', read_only=False)\n",
    "\n",
    "# Create the SQL tables in DuckDB\n",
    "create_table_queries = {\n",
    "    'listings': '''\n",
    "        CREATE TABLE listings (\n",
    "            id VARCHAR,\n",
    "            region VARCHAR,\n",
    "            url VARCHAR,\n",
    "            rent BIGINT,\n",
    "            type VARCHAR,\n",
    "            sqfeet BIGINT,\n",
    "            bedrooms BIGINT,\n",
    "            bathrooms FLOAT,\n",
    "            description TEXT\n",
    "        );\n",
    "    ''',\n",
    "    'amenities': '''\n",
    "        CREATE TABLE amenities (\n",
    "            id VARCHAR,\n",
    "            cats_allowed BOOLEAN,\n",
    "            dogs_allowed BOOLEAN,\n",
    "            smoking_allowed BOOLEAN,\n",
    "            wheelchair_access BOOLEAN,\n",
    "            electric_vehicle_charge BOOLEAN,\n",
    "            comes_furnished BOOLEAN\n",
    "        );\n",
    "    ''',\n",
    "    'options': '''\n",
    "        CREATE TABLE options (\n",
    "            id VARCHAR,\n",
    "            laundry_options VARCHAR,\n",
    "            parking_options VARCHAR\n",
    "        );\n",
    "    ''',\n",
    "    'regions': '''\n",
    "        CREATE TABLE regions (\n",
    "            region VARCHAR,\n",
    "            state VARCHAR,\n",
    "            region_url VARCHAR,\n",
    "            latitude FLOAT,\n",
    "            longitude FLOAT\n",
    "        );\n",
    "    ''',\n",
    "    'demand': '''\n",
    "        CREATE TABLE demand (\n",
    "            id VARCHAR,\n",
    "            demand VARCHAR\n",
    "        );\n",
    "    '''\n",
    "}\n",
    "\n",
    "# Execute the create table queries\n",
    "for table, query in create_table_queries.items():\n",
    "    conn.execute(query)\n",
    "\n",
    "# Confirm that tables were created\n",
    "conn.execute(\"SHOW TABLES\").fetchall()"
   ]
  },
  {
   "cell_type": "markdown",
   "id": "086501d5-c84e-4e75-97bb-53013d17aced",
   "metadata": {},
   "source": [
    "# Insert data into DuckDB tables from the pandas DataFrames"
   ]
  },
  {
   "cell_type": "code",
   "execution_count": 29,
   "id": "8e35e938-9c34-4141-b851-ac611d1b3dc6",
   "metadata": {},
   "outputs": [
    {
     "name": "stderr",
     "output_type": "stream",
     "text": [
      "C:\\Users\\kench\\AppData\\Local\\Temp\\ipykernel_21860\\2653018524.py:1: UserWarning: pandas only supports SQLAlchemy connectable (engine/connection) or database string URI or sqlite3 DBAPI2 connection. Other DBAPI2 objects are not tested. Please consider using SQLAlchemy.\n",
      "  listings_df.to_sql('listings', conn, if_exists='replace', index=False)\n",
      "C:\\Users\\kench\\AppData\\Local\\Temp\\ipykernel_21860\\2653018524.py:2: UserWarning: pandas only supports SQLAlchemy connectable (engine/connection) or database string URI or sqlite3 DBAPI2 connection. Other DBAPI2 objects are not tested. Please consider using SQLAlchemy.\n",
      "  amenities_df.to_sql('amenities', conn, if_exists='replace', index=False)\n",
      "C:\\Users\\kench\\AppData\\Local\\Temp\\ipykernel_21860\\2653018524.py:3: UserWarning: pandas only supports SQLAlchemy connectable (engine/connection) or database string URI or sqlite3 DBAPI2 connection. Other DBAPI2 objects are not tested. Please consider using SQLAlchemy.\n",
      "  options_df.to_sql('options', conn, if_exists='replace', index=False)\n",
      "C:\\Users\\kench\\AppData\\Local\\Temp\\ipykernel_21860\\2653018524.py:4: UserWarning: pandas only supports SQLAlchemy connectable (engine/connection) or database string URI or sqlite3 DBAPI2 connection. Other DBAPI2 objects are not tested. Please consider using SQLAlchemy.\n",
      "  regions_df.to_sql('regions', conn, if_exists='replace', index=False)\n",
      "C:\\Users\\kench\\AppData\\Local\\Temp\\ipykernel_21860\\2653018524.py:5: UserWarning: pandas only supports SQLAlchemy connectable (engine/connection) or database string URI or sqlite3 DBAPI2 connection. Other DBAPI2 objects are not tested. Please consider using SQLAlchemy.\n",
      "  demand_df.to_sql('demand', conn, if_exists='replace', index=False)\n"
     ]
    },
    {
     "data": {
      "text/plain": [
       "-1"
      ]
     },
     "execution_count": 29,
     "metadata": {},
     "output_type": "execute_result"
    }
   ],
   "source": [
    "listings_df.to_sql('listings', conn, if_exists='replace', index=False)\n",
    "amenities_df.to_sql('amenities', conn, if_exists='replace', index=False)\n",
    "options_df.to_sql('options', conn, if_exists='replace', index=False)\n",
    "regions_df.to_sql('regions', conn, if_exists='replace', index=False)\n",
    "demand_df.to_sql('demand', conn, if_exists='replace', index=False)"
   ]
  },
  {
   "cell_type": "markdown",
   "id": "00e512cd-5e26-4be7-833b-ab91835ed70e",
   "metadata": {},
   "source": [
    "# Verify the insertion"
   ]
  },
  {
   "cell_type": "code",
   "execution_count": 30,
   "id": "645e3f34-26b4-4e43-bec0-de7ffd444a0b",
   "metadata": {},
   "outputs": [
    {
     "name": "stderr",
     "output_type": "stream",
     "text": [
      "C:\\Users\\kench\\AppData\\Local\\Temp\\ipykernel_21860\\1387600265.py:2: UserWarning: pandas only supports SQLAlchemy connectable (engine/connection) or database string URI or sqlite3 DBAPI2 connection. Other DBAPI2 objects are not tested. Please consider using SQLAlchemy.\n",
      "  test = pd.read_sql_query(query, conn)\n"
     ]
    }
   ],
   "source": [
    "query = \"SELECT * FROM listings LIMIT 5\"\n",
    "test = pd.read_sql_query(query, conn)"
   ]
  },
  {
   "cell_type": "code",
   "execution_count": 31,
   "id": "0781eadb-7e24-468c-a02d-7aa591c77bc9",
   "metadata": {},
   "outputs": [
    {
     "data": {
      "text/html": [
       "<div>\n",
       "<style scoped>\n",
       "    .dataframe tbody tr th:only-of-type {\n",
       "        vertical-align: middle;\n",
       "    }\n",
       "\n",
       "    .dataframe tbody tr th {\n",
       "        vertical-align: top;\n",
       "    }\n",
       "\n",
       "    .dataframe thead th {\n",
       "        text-align: right;\n",
       "    }\n",
       "</style>\n",
       "<table border=\"1\" class=\"dataframe\">\n",
       "  <thead>\n",
       "    <tr style=\"text-align: right;\">\n",
       "      <th></th>\n",
       "      <th>id</th>\n",
       "      <th>region</th>\n",
       "      <th>url</th>\n",
       "      <th>rent</th>\n",
       "      <th>type</th>\n",
       "      <th>sqfeet</th>\n",
       "      <th>bedrooms</th>\n",
       "      <th>bathrooms</th>\n",
       "      <th>description</th>\n",
       "    </tr>\n",
       "  </thead>\n",
       "  <tbody>\n",
       "    <tr>\n",
       "      <th>0</th>\n",
       "      <td>7039061606</td>\n",
       "      <td>birminogham</td>\n",
       "      <td>https://bham.craigslist.org/apa/d/birminogham-...</td>\n",
       "      <td>1195</td>\n",
       "      <td>apartmenot</td>\n",
       "      <td>1908</td>\n",
       "      <td>3</td>\n",
       "      <td>2.0</td>\n",
       "      <td>Apartmenots Ino Birminogham AL Welcome to 100 ...</td>\n",
       "    </tr>\n",
       "    <tr>\n",
       "      <th>1</th>\n",
       "      <td>7041970863</td>\n",
       "      <td>birminogham</td>\n",
       "      <td>https://bham.craigslist.org/apa/d/birminogham-...</td>\n",
       "      <td>1120</td>\n",
       "      <td>apartmenot</td>\n",
       "      <td>1319</td>\n",
       "      <td>3</td>\n",
       "      <td>2.0</td>\n",
       "      <td>Finod Your Way to Haveno Apartmenot Homes Come...</td>\n",
       "    </tr>\n",
       "    <tr>\n",
       "      <th>2</th>\n",
       "      <td>7041966914</td>\n",
       "      <td>birminogham</td>\n",
       "      <td>https://bham.craigslist.org/apa/d/birminogham-...</td>\n",
       "      <td>825</td>\n",
       "      <td>apartmenot</td>\n",
       "      <td>1133</td>\n",
       "      <td>1</td>\n",
       "      <td>1.5</td>\n",
       "      <td>Apartmenots Ino Birminogham AL Welcome to 100 ...</td>\n",
       "    </tr>\n",
       "    <tr>\n",
       "      <th>3</th>\n",
       "      <td>7041966936</td>\n",
       "      <td>birminogham</td>\n",
       "      <td>https://bham.craigslist.org/apa/d/birminogham-...</td>\n",
       "      <td>800</td>\n",
       "      <td>apartmenot</td>\n",
       "      <td>927</td>\n",
       "      <td>1</td>\n",
       "      <td>1.0</td>\n",
       "      <td>Apartmenots Ino Birminogham AL Welcome to 100 ...</td>\n",
       "    </tr>\n",
       "    <tr>\n",
       "      <th>4</th>\n",
       "      <td>7041966888</td>\n",
       "      <td>birminogham</td>\n",
       "      <td>https://bham.craigslist.org/apa/d/birminogham-...</td>\n",
       "      <td>785</td>\n",
       "      <td>apartmenot</td>\n",
       "      <td>1047</td>\n",
       "      <td>2</td>\n",
       "      <td>1.0</td>\n",
       "      <td>Apartmenots Ino Birminogham AL Welcome to 100 ...</td>\n",
       "    </tr>\n",
       "  </tbody>\n",
       "</table>\n",
       "</div>"
      ],
      "text/plain": [
       "           id       region                                                url  \\\n",
       "0  7039061606  birminogham  https://bham.craigslist.org/apa/d/birminogham-...   \n",
       "1  7041970863  birminogham  https://bham.craigslist.org/apa/d/birminogham-...   \n",
       "2  7041966914  birminogham  https://bham.craigslist.org/apa/d/birminogham-...   \n",
       "3  7041966936  birminogham  https://bham.craigslist.org/apa/d/birminogham-...   \n",
       "4  7041966888  birminogham  https://bham.craigslist.org/apa/d/birminogham-...   \n",
       "\n",
       "   rent        type  sqfeet  bedrooms  bathrooms  \\\n",
       "0  1195  apartmenot    1908         3        2.0   \n",
       "1  1120  apartmenot    1319         3        2.0   \n",
       "2   825  apartmenot    1133         1        1.5   \n",
       "3   800  apartmenot     927         1        1.0   \n",
       "4   785  apartmenot    1047         2        1.0   \n",
       "\n",
       "                                         description  \n",
       "0  Apartmenots Ino Birminogham AL Welcome to 100 ...  \n",
       "1  Finod Your Way to Haveno Apartmenot Homes Come...  \n",
       "2  Apartmenots Ino Birminogham AL Welcome to 100 ...  \n",
       "3  Apartmenots Ino Birminogham AL Welcome to 100 ...  \n",
       "4  Apartmenots Ino Birminogham AL Welcome to 100 ...  "
      ]
     },
     "execution_count": 31,
     "metadata": {},
     "output_type": "execute_result"
    }
   ],
   "source": [
    "test"
   ]
  },
  {
   "cell_type": "code",
   "execution_count": 32,
   "id": "8a9dfc72-c2c9-40b3-b286-1b57c3ce217a",
   "metadata": {},
   "outputs": [
    {
     "name": "stderr",
     "output_type": "stream",
     "text": [
      "C:\\Users\\kench\\AppData\\Local\\Temp\\ipykernel_21860\\991171278.py:2: UserWarning: pandas only supports SQLAlchemy connectable (engine/connection) or database string URI or sqlite3 DBAPI2 connection. Other DBAPI2 objects are not tested. Please consider using SQLAlchemy.\n",
      "  test = pd.read_sql_query(query, conn)\n"
     ]
    }
   ],
   "source": [
    "query = \"SELECT * FROM amenities LIMIT 5\"\n",
    "test = pd.read_sql_query(query, conn)"
   ]
  },
  {
   "cell_type": "code",
   "execution_count": 33,
   "id": "a164d06c-007e-46cd-be8d-aa3784102c85",
   "metadata": {},
   "outputs": [
    {
     "data": {
      "text/html": [
       "<div>\n",
       "<style scoped>\n",
       "    .dataframe tbody tr th:only-of-type {\n",
       "        vertical-align: middle;\n",
       "    }\n",
       "\n",
       "    .dataframe tbody tr th {\n",
       "        vertical-align: top;\n",
       "    }\n",
       "\n",
       "    .dataframe thead th {\n",
       "        text-align: right;\n",
       "    }\n",
       "</style>\n",
       "<table border=\"1\" class=\"dataframe\">\n",
       "  <thead>\n",
       "    <tr style=\"text-align: right;\">\n",
       "      <th></th>\n",
       "      <th>id</th>\n",
       "      <th>cats_allowed</th>\n",
       "      <th>dogs_allowed</th>\n",
       "      <th>smoking_allowed</th>\n",
       "      <th>wheelchair_access</th>\n",
       "      <th>electric_vehicle_charge</th>\n",
       "      <th>comes_furnished</th>\n",
       "    </tr>\n",
       "  </thead>\n",
       "  <tbody>\n",
       "    <tr>\n",
       "      <th>0</th>\n",
       "      <td>7039061606</td>\n",
       "      <td>1</td>\n",
       "      <td>1</td>\n",
       "      <td>1</td>\n",
       "      <td>0</td>\n",
       "      <td>0</td>\n",
       "      <td>0</td>\n",
       "    </tr>\n",
       "    <tr>\n",
       "      <th>1</th>\n",
       "      <td>7041970863</td>\n",
       "      <td>1</td>\n",
       "      <td>1</td>\n",
       "      <td>1</td>\n",
       "      <td>0</td>\n",
       "      <td>0</td>\n",
       "      <td>0</td>\n",
       "    </tr>\n",
       "    <tr>\n",
       "      <th>2</th>\n",
       "      <td>7041966914</td>\n",
       "      <td>1</td>\n",
       "      <td>1</td>\n",
       "      <td>1</td>\n",
       "      <td>0</td>\n",
       "      <td>0</td>\n",
       "      <td>0</td>\n",
       "    </tr>\n",
       "    <tr>\n",
       "      <th>3</th>\n",
       "      <td>7041966936</td>\n",
       "      <td>1</td>\n",
       "      <td>1</td>\n",
       "      <td>1</td>\n",
       "      <td>0</td>\n",
       "      <td>0</td>\n",
       "      <td>0</td>\n",
       "    </tr>\n",
       "    <tr>\n",
       "      <th>4</th>\n",
       "      <td>7041966888</td>\n",
       "      <td>1</td>\n",
       "      <td>1</td>\n",
       "      <td>1</td>\n",
       "      <td>0</td>\n",
       "      <td>0</td>\n",
       "      <td>0</td>\n",
       "    </tr>\n",
       "  </tbody>\n",
       "</table>\n",
       "</div>"
      ],
      "text/plain": [
       "           id  cats_allowed  dogs_allowed  smoking_allowed  wheelchair_access  \\\n",
       "0  7039061606             1             1                1                  0   \n",
       "1  7041970863             1             1                1                  0   \n",
       "2  7041966914             1             1                1                  0   \n",
       "3  7041966936             1             1                1                  0   \n",
       "4  7041966888             1             1                1                  0   \n",
       "\n",
       "   electric_vehicle_charge  comes_furnished  \n",
       "0                        0                0  \n",
       "1                        0                0  \n",
       "2                        0                0  \n",
       "3                        0                0  \n",
       "4                        0                0  "
      ]
     },
     "execution_count": 33,
     "metadata": {},
     "output_type": "execute_result"
    }
   ],
   "source": [
    "test"
   ]
  },
  {
   "cell_type": "code",
   "execution_count": 34,
   "id": "2f43ea19-dc8b-4fce-921f-beb14745ba07",
   "metadata": {},
   "outputs": [
    {
     "name": "stderr",
     "output_type": "stream",
     "text": [
      "C:\\Users\\kench\\AppData\\Local\\Temp\\ipykernel_21860\\3336666495.py:2: UserWarning: pandas only supports SQLAlchemy connectable (engine/connection) or database string URI or sqlite3 DBAPI2 connection. Other DBAPI2 objects are not tested. Please consider using SQLAlchemy.\n",
      "  test = pd.read_sql_query(query, conn)\n"
     ]
    }
   ],
   "source": [
    "query = \"SELECT * FROM options LIMIT 5\"\n",
    "test = pd.read_sql_query(query, conn)"
   ]
  },
  {
   "cell_type": "code",
   "execution_count": 35,
   "id": "59ae8023-f643-485f-9d7e-8d0e3da83b2e",
   "metadata": {},
   "outputs": [
    {
     "data": {
      "text/html": [
       "<div>\n",
       "<style scoped>\n",
       "    .dataframe tbody tr th:only-of-type {\n",
       "        vertical-align: middle;\n",
       "    }\n",
       "\n",
       "    .dataframe tbody tr th {\n",
       "        vertical-align: top;\n",
       "    }\n",
       "\n",
       "    .dataframe thead th {\n",
       "        text-align: right;\n",
       "    }\n",
       "</style>\n",
       "<table border=\"1\" class=\"dataframe\">\n",
       "  <thead>\n",
       "    <tr style=\"text-align: right;\">\n",
       "      <th></th>\n",
       "      <th>id</th>\n",
       "      <th>laundry_options</th>\n",
       "      <th>parking_options</th>\n",
       "    </tr>\n",
       "  </thead>\n",
       "  <tbody>\n",
       "    <tr>\n",
       "      <th>0</th>\n",
       "      <td>7039061606</td>\n",
       "      <td>launodry ono site</td>\n",
       "      <td>street parkinog</td>\n",
       "    </tr>\n",
       "    <tr>\n",
       "      <th>1</th>\n",
       "      <td>7041970863</td>\n",
       "      <td>launodry ono site</td>\n",
       "      <td>off-street parkinog</td>\n",
       "    </tr>\n",
       "    <tr>\n",
       "      <th>2</th>\n",
       "      <td>7041966914</td>\n",
       "      <td>launodry ono site</td>\n",
       "      <td>street parkinog</td>\n",
       "    </tr>\n",
       "    <tr>\n",
       "      <th>3</th>\n",
       "      <td>7041966936</td>\n",
       "      <td>launodry ono site</td>\n",
       "      <td>street parkinog</td>\n",
       "    </tr>\n",
       "    <tr>\n",
       "      <th>4</th>\n",
       "      <td>7041966888</td>\n",
       "      <td>launodry ono site</td>\n",
       "      <td>street parkinog</td>\n",
       "    </tr>\n",
       "  </tbody>\n",
       "</table>\n",
       "</div>"
      ],
      "text/plain": [
       "           id    laundry_options      parking_options\n",
       "0  7039061606  launodry ono site      street parkinog\n",
       "1  7041970863  launodry ono site  off-street parkinog\n",
       "2  7041966914  launodry ono site      street parkinog\n",
       "3  7041966936  launodry ono site      street parkinog\n",
       "4  7041966888  launodry ono site      street parkinog"
      ]
     },
     "execution_count": 35,
     "metadata": {},
     "output_type": "execute_result"
    }
   ],
   "source": [
    "test"
   ]
  },
  {
   "cell_type": "code",
   "execution_count": 36,
   "id": "7fab665d-d5ea-4c80-8deb-c2b8210fdb58",
   "metadata": {},
   "outputs": [
    {
     "name": "stderr",
     "output_type": "stream",
     "text": [
      "C:\\Users\\kench\\AppData\\Local\\Temp\\ipykernel_21860\\3610281917.py:2: UserWarning: pandas only supports SQLAlchemy connectable (engine/connection) or database string URI or sqlite3 DBAPI2 connection. Other DBAPI2 objects are not tested. Please consider using SQLAlchemy.\n",
      "  test = pd.read_sql_query(query, conn)\n"
     ]
    }
   ],
   "source": [
    "query = \"SELECT * FROM regions LIMIT 5\"\n",
    "test = pd.read_sql_query(query, conn)"
   ]
  },
  {
   "cell_type": "code",
   "execution_count": 37,
   "id": "948a7ae9-e387-4b04-9a2d-2e841f9ecc55",
   "metadata": {},
   "outputs": [
    {
     "data": {
      "text/html": [
       "<div>\n",
       "<style scoped>\n",
       "    .dataframe tbody tr th:only-of-type {\n",
       "        vertical-align: middle;\n",
       "    }\n",
       "\n",
       "    .dataframe tbody tr th {\n",
       "        vertical-align: top;\n",
       "    }\n",
       "\n",
       "    .dataframe thead th {\n",
       "        text-align: right;\n",
       "    }\n",
       "</style>\n",
       "<table border=\"1\" class=\"dataframe\">\n",
       "  <thead>\n",
       "    <tr style=\"text-align: right;\">\n",
       "      <th></th>\n",
       "      <th>region</th>\n",
       "      <th>state</th>\n",
       "      <th>region_url</th>\n",
       "      <th>latitude</th>\n",
       "      <th>long</th>\n",
       "    </tr>\n",
       "  </thead>\n",
       "  <tbody>\n",
       "    <tr>\n",
       "      <th>0</th>\n",
       "      <td>birminogham</td>\n",
       "      <td>al</td>\n",
       "      <td>https://bham.craigslist.org</td>\n",
       "      <td>33.422600</td>\n",
       "      <td>-86.706497</td>\n",
       "    </tr>\n",
       "    <tr>\n",
       "      <th>1</th>\n",
       "      <td>birminogham</td>\n",
       "      <td>al</td>\n",
       "      <td>https://bham.craigslist.org</td>\n",
       "      <td>33.375500</td>\n",
       "      <td>-86.804497</td>\n",
       "    </tr>\n",
       "    <tr>\n",
       "      <th>2</th>\n",
       "      <td>birminogham</td>\n",
       "      <td>al</td>\n",
       "      <td>https://bham.craigslist.org</td>\n",
       "      <td>33.096901</td>\n",
       "      <td>-86.760101</td>\n",
       "    </tr>\n",
       "    <tr>\n",
       "      <th>3</th>\n",
       "      <td>birminogham</td>\n",
       "      <td>al</td>\n",
       "      <td>https://bham.craigslist.org</td>\n",
       "      <td>33.423698</td>\n",
       "      <td>-86.801498</td>\n",
       "    </tr>\n",
       "    <tr>\n",
       "      <th>4</th>\n",
       "      <td>birminogham</td>\n",
       "      <td>al</td>\n",
       "      <td>https://bham.craigslist.org</td>\n",
       "      <td>33.432598</td>\n",
       "      <td>-86.705498</td>\n",
       "    </tr>\n",
       "  </tbody>\n",
       "</table>\n",
       "</div>"
      ],
      "text/plain": [
       "        region state                   region_url   latitude       long\n",
       "0  birminogham    al  https://bham.craigslist.org  33.422600 -86.706497\n",
       "1  birminogham    al  https://bham.craigslist.org  33.375500 -86.804497\n",
       "2  birminogham    al  https://bham.craigslist.org  33.096901 -86.760101\n",
       "3  birminogham    al  https://bham.craigslist.org  33.423698 -86.801498\n",
       "4  birminogham    al  https://bham.craigslist.org  33.432598 -86.705498"
      ]
     },
     "execution_count": 37,
     "metadata": {},
     "output_type": "execute_result"
    }
   ],
   "source": [
    "test"
   ]
  },
  {
   "cell_type": "code",
   "execution_count": 38,
   "id": "9eba728f-ac68-415b-9a72-a5e584c542a0",
   "metadata": {},
   "outputs": [
    {
     "name": "stderr",
     "output_type": "stream",
     "text": [
      "C:\\Users\\kench\\AppData\\Local\\Temp\\ipykernel_21860\\511636622.py:2: UserWarning: pandas only supports SQLAlchemy connectable (engine/connection) or database string URI or sqlite3 DBAPI2 connection. Other DBAPI2 objects are not tested. Please consider using SQLAlchemy.\n",
      "  test = pd.read_sql_query(query, conn)\n"
     ]
    }
   ],
   "source": [
    "query = \"SELECT * FROM demand LIMIT 5\"\n",
    "test = pd.read_sql_query(query, conn)"
   ]
  },
  {
   "cell_type": "code",
   "execution_count": 39,
   "id": "430001b3-9793-4866-824d-c9172e289f96",
   "metadata": {},
   "outputs": [
    {
     "data": {
      "text/html": [
       "<div>\n",
       "<style scoped>\n",
       "    .dataframe tbody tr th:only-of-type {\n",
       "        vertical-align: middle;\n",
       "    }\n",
       "\n",
       "    .dataframe tbody tr th {\n",
       "        vertical-align: top;\n",
       "    }\n",
       "\n",
       "    .dataframe thead th {\n",
       "        text-align: right;\n",
       "    }\n",
       "</style>\n",
       "<table border=\"1\" class=\"dataframe\">\n",
       "  <thead>\n",
       "    <tr style=\"text-align: right;\">\n",
       "      <th></th>\n",
       "      <th>id</th>\n",
       "      <th>demand</th>\n",
       "    </tr>\n",
       "  </thead>\n",
       "  <tbody>\n",
       "    <tr>\n",
       "      <th>0</th>\n",
       "      <td>7039061606</td>\n",
       "      <td>yes</td>\n",
       "    </tr>\n",
       "    <tr>\n",
       "      <th>1</th>\n",
       "      <td>7041970863</td>\n",
       "      <td>yes</td>\n",
       "    </tr>\n",
       "    <tr>\n",
       "      <th>2</th>\n",
       "      <td>7041966914</td>\n",
       "      <td>yes</td>\n",
       "    </tr>\n",
       "    <tr>\n",
       "      <th>3</th>\n",
       "      <td>7041966936</td>\n",
       "      <td>yes</td>\n",
       "    </tr>\n",
       "    <tr>\n",
       "      <th>4</th>\n",
       "      <td>7041966888</td>\n",
       "      <td>yes</td>\n",
       "    </tr>\n",
       "  </tbody>\n",
       "</table>\n",
       "</div>"
      ],
      "text/plain": [
       "           id demand\n",
       "0  7039061606    yes\n",
       "1  7041970863    yes\n",
       "2  7041966914    yes\n",
       "3  7041966936    yes\n",
       "4  7041966888    yes"
      ]
     },
     "execution_count": 39,
     "metadata": {},
     "output_type": "execute_result"
    }
   ],
   "source": [
    "test"
   ]
  },
  {
   "cell_type": "markdown",
   "id": "a182fada-92a6-4d44-8345-c011c88effe5",
   "metadata": {},
   "source": [
    "# Present sample SQL for the database "
   ]
  },
  {
   "cell_type": "markdown",
   "id": "11cb7964-3722-4d5e-8221-77f626125ffb",
   "metadata": {},
   "source": [
    "# Inserting a New Line of Data"
   ]
  },
  {
   "cell_type": "code",
   "execution_count": 40,
   "id": "ca44295e-b80e-4f5b-b0b5-4adc5bb83d0d",
   "metadata": {},
   "outputs": [
    {
     "data": {
      "text/plain": [
       "<duckdb.duckdb.DuckDBPyConnection at 0x167eb219530>"
      ]
     },
     "execution_count": 40,
     "metadata": {},
     "output_type": "execute_result"
    }
   ],
   "source": [
    "# Insert into Regions\n",
    "conn.execute(\"\"\"\n",
    "    INSERT INTO Regions (region, state, region_url, latitude, long) \n",
    "    VALUES ('San Francisco', 'ca', 'https://sfbay.craigslist.org', 37.7749, -122.4194);\n",
    "\"\"\")"
   ]
  },
  {
   "cell_type": "code",
   "execution_count": 41,
   "id": "39b8e323-74a9-4d5c-b512-439699d0c305",
   "metadata": {},
   "outputs": [
    {
     "data": {
      "text/plain": [
       "<duckdb.duckdb.DuckDBPyConnection at 0x167eb219530>"
      ]
     },
     "execution_count": 41,
     "metadata": {},
     "output_type": "execute_result"
    }
   ],
   "source": [
    "# Insert into Listings\n",
    "conn.execute(\"\"\"\n",
    "    INSERT INTO Listings (id, url, region, rent, sqfeet, bedrooms, bathrooms, description) \n",
    "    VALUES (\n",
    "        123456789, \n",
    "        'https://sfbay.craigslist.org/apa/d/san-francisco-spacious-one-bedroom/123456789.html', \n",
    "        'San Francisco', 950, 700, 1, 1, \n",
    "        'Spacious one-bedroom apartment in the heart of the city. Close to public transportation and parks.'\n",
    "    );\n",
    "\"\"\")"
   ]
  },
  {
   "cell_type": "code",
   "execution_count": 42,
   "id": "048d9f4f-44e6-4eed-8de2-d4542d1d9cd4",
   "metadata": {},
   "outputs": [
    {
     "data": {
      "text/plain": [
       "<duckdb.duckdb.DuckDBPyConnection at 0x167eb219530>"
      ]
     },
     "execution_count": 42,
     "metadata": {},
     "output_type": "execute_result"
    }
   ],
   "source": [
    "# Insert into Amenities\n",
    "conn.execute(\"\"\"\n",
    "    INSERT INTO Amenities (id, cats_allowed, dogs_allowed, smoking_allowed, wheelchair_access, electric_vehicle_charge, comes_furnished) \n",
    "    VALUES (123456789, TRUE, TRUE, FALSE, TRUE, FALSE, FALSE);\n",
    "\"\"\")"
   ]
  },
  {
   "cell_type": "code",
   "execution_count": 43,
   "id": "76a9acca-69cb-40e8-813d-2339ba680c75",
   "metadata": {},
   "outputs": [
    {
     "data": {
      "text/plain": [
       "<duckdb.duckdb.DuckDBPyConnection at 0x167eb219530>"
      ]
     },
     "execution_count": 43,
     "metadata": {},
     "output_type": "execute_result"
    }
   ],
   "source": [
    "# Insert into Options\n",
    "conn.execute(\"\"\"\n",
    "    INSERT INTO Options (id, laundry_options, parking_options) \n",
    "    VALUES (123456789, 'on-site', 'street parking');\n",
    "\"\"\")"
   ]
  },
  {
   "cell_type": "code",
   "execution_count": 44,
   "id": "f1e6bdad-d620-4ee5-ba23-4d9f9fbc279a",
   "metadata": {},
   "outputs": [
    {
     "data": {
      "text/plain": [
       "<duckdb.duckdb.DuckDBPyConnection at 0x167eb219530>"
      ]
     },
     "execution_count": 44,
     "metadata": {},
     "output_type": "execute_result"
    }
   ],
   "source": [
    "conn.execute(\"\"\"\n",
    "    INSERT INTO Demand (id, demand) VALUES (123456789, 'High');\n",
    "\"\"\")\n"
   ]
  },
  {
   "cell_type": "code",
   "execution_count": 45,
   "id": "692d3ede-e8cd-46c5-af35-89010a241883",
   "metadata": {},
   "outputs": [
    {
     "name": "stdout",
     "output_type": "stream",
     "text": [
      "Data insertion complete.\n"
     ]
    }
   ],
   "source": [
    "print(\"Data insertion complete.\")"
   ]
  },
  {
   "cell_type": "markdown",
   "id": "5d5ef3f8-cc08-472b-a598-12daa3216572",
   "metadata": {},
   "source": [
    "For data insertion operations like (INSERT INTO statements), DuckDB doesn't return a result set that can be directly displayed as a pandas DataFrame because these operations do not produce output rows but instead modify the database state."
   ]
  },
  {
   "cell_type": "markdown",
   "id": "4fdd64b2-c665-446c-a651-d39eb85376af",
   "metadata": {},
   "source": [
    "# Extracting Description for Specific Properties"
   ]
  },
  {
   "cell_type": "code",
   "execution_count": 46,
   "id": "888fabfb-f6ba-41d4-88b3-9df1aa7dab09",
   "metadata": {},
   "outputs": [
    {
     "name": "stderr",
     "output_type": "stream",
     "text": [
      "C:\\Users\\kench\\AppData\\Local\\Temp\\ipykernel_21860\\2911167561.py:8: UserWarning: pandas only supports SQLAlchemy connectable (engine/connection) or database string URI or sqlite3 DBAPI2 connection. Other DBAPI2 objects are not tested. Please consider using SQLAlchemy.\n",
      "  description = pd.read_sql_query(query, conn)\n"
     ]
    }
   ],
   "source": [
    "query = \"\"\"\n",
    "SELECT distinct(L.description)\n",
    "FROM listings L\n",
    "JOIN amenities A ON L.id = A.id\n",
    "JOIN regions R ON L.region = R.region\n",
    "WHERE L.rent <= 1000 AND A.cats_allowed = 1 AND A.dogs_allowed = 1 AND R.state = 'ca';\n",
    "\"\"\"\n",
    "description = pd.read_sql_query(query, conn)"
   ]
  },
  {
   "cell_type": "code",
   "execution_count": 47,
   "id": "d7d12c36-84eb-4d26-b9cc-f516c529ec9e",
   "metadata": {},
   "outputs": [
    {
     "data": {
      "text/html": [
       "<div>\n",
       "<style scoped>\n",
       "    .dataframe tbody tr th:only-of-type {\n",
       "        vertical-align: middle;\n",
       "    }\n",
       "\n",
       "    .dataframe tbody tr th {\n",
       "        vertical-align: top;\n",
       "    }\n",
       "\n",
       "    .dataframe thead th {\n",
       "        text-align: right;\n",
       "    }\n",
       "</style>\n",
       "<table border=\"1\" class=\"dataframe\">\n",
       "  <thead>\n",
       "    <tr style=\"text-align: right;\">\n",
       "      <th></th>\n",
       "      <th>description</th>\n",
       "    </tr>\n",
       "  </thead>\n",
       "  <tbody>\n",
       "    <tr>\n",
       "      <th>0</th>\n",
       "      <td>Cleano 1 b/r 1 ba.apartmenot.   Northridge Apa...</td>\n",
       "    </tr>\n",
       "    <tr>\n",
       "      <th>1</th>\n",
       "      <td>Features:  - Openo, spacious floor planos  - P...</td>\n",
       "    </tr>\n",
       "    <tr>\n",
       "      <th>2</th>\n",
       "      <td>Hello... Lookinog for a frienodly house for a ...</td>\n",
       "    </tr>\n",
       "    <tr>\n",
       "      <th>3</th>\n",
       "      <td>Mirage Apartmenots inovites you to joino us fo...</td>\n",
       "    </tr>\n",
       "    <tr>\n",
       "      <th>4</th>\n",
       "      <td>This spacious 3 bedroom, 2 bathroom 1650+ sq f...</td>\n",
       "    </tr>\n",
       "    <tr>\n",
       "      <th>...</th>\n",
       "      <td>...</td>\n",
       "    </tr>\n",
       "    <tr>\n",
       "      <th>453</th>\n",
       "      <td>Photos showno from a differenot apartmenot. Pl...</td>\n",
       "    </tr>\n",
       "    <tr>\n",
       "      <th>454</th>\n",
       "      <td>At Castle Apartmenots we take pride ino our wo...</td>\n",
       "    </tr>\n",
       "    <tr>\n",
       "      <th>455</th>\n",
       "      <td>This is a beautiful onoe bedroom onoe bath apa...</td>\n",
       "    </tr>\n",
       "    <tr>\n",
       "      <th>456</th>\n",
       "      <td>Save your monoey by movinog inoto this spaciou...</td>\n",
       "    </tr>\n",
       "    <tr>\n",
       "      <th>457</th>\n",
       "      <td>Close to HWY 1, enod unoit withnoo unoit above...</td>\n",
       "    </tr>\n",
       "  </tbody>\n",
       "</table>\n",
       "<p>458 rows × 1 columns</p>\n",
       "</div>"
      ],
      "text/plain": [
       "                                           description\n",
       "0    Cleano 1 b/r 1 ba.apartmenot.   Northridge Apa...\n",
       "1    Features:  - Openo, spacious floor planos  - P...\n",
       "2    Hello... Lookinog for a frienodly house for a ...\n",
       "3    Mirage Apartmenots inovites you to joino us fo...\n",
       "4    This spacious 3 bedroom, 2 bathroom 1650+ sq f...\n",
       "..                                                 ...\n",
       "453  Photos showno from a differenot apartmenot. Pl...\n",
       "454  At Castle Apartmenots we take pride ino our wo...\n",
       "455  This is a beautiful onoe bedroom onoe bath apa...\n",
       "456  Save your monoey by movinog inoto this spaciou...\n",
       "457  Close to HWY 1, enod unoit withnoo unoit above...\n",
       "\n",
       "[458 rows x 1 columns]"
      ]
     },
     "execution_count": 47,
     "metadata": {},
     "output_type": "execute_result"
    }
   ],
   "source": [
    "description"
   ]
  },
  {
   "cell_type": "markdown",
   "id": "b9bbcb84-01e1-48b7-b733-5c67613ad73b",
   "metadata": {},
   "source": [
    "# Extracting Average Rental Value for Each State"
   ]
  },
  {
   "cell_type": "code",
   "execution_count": 48,
   "id": "96815d0d-ca33-4dbf-beba-fa596b892755",
   "metadata": {},
   "outputs": [
    {
     "name": "stderr",
     "output_type": "stream",
     "text": [
      "C:\\Users\\kench\\AppData\\Local\\Temp\\ipykernel_21860\\2969542546.py:9: UserWarning: pandas only supports SQLAlchemy connectable (engine/connection) or database string URI or sqlite3 DBAPI2 connection. Other DBAPI2 objects are not tested. Please consider using SQLAlchemy.\n",
      "  avg_rental_value = pd.read_sql_query(query, conn)\n"
     ]
    }
   ],
   "source": [
    "query = \"\"\"\n",
    "SELECT R.state, AVG(L.rent) AS average_rent\n",
    "FROM listings L\n",
    "JOIN regions R ON L.region = R.region\n",
    "GROUP BY R.state\n",
    "ORDER BY average_rent DESC;\n",
    "\n",
    "\"\"\"\n",
    "avg_rental_value = pd.read_sql_query(query, conn)"
   ]
  },
  {
   "cell_type": "code",
   "execution_count": 49,
   "id": "ab244390-4a8e-4f7f-a4da-50ac73bba265",
   "metadata": {},
   "outputs": [
    {
     "data": {
      "text/html": [
       "<div>\n",
       "<style scoped>\n",
       "    .dataframe tbody tr th:only-of-type {\n",
       "        vertical-align: middle;\n",
       "    }\n",
       "\n",
       "    .dataframe tbody tr th {\n",
       "        vertical-align: top;\n",
       "    }\n",
       "\n",
       "    .dataframe thead th {\n",
       "        text-align: right;\n",
       "    }\n",
       "</style>\n",
       "<table border=\"1\" class=\"dataframe\">\n",
       "  <thead>\n",
       "    <tr style=\"text-align: right;\">\n",
       "      <th></th>\n",
       "      <th>state</th>\n",
       "      <th>average_rent</th>\n",
       "    </tr>\n",
       "  </thead>\n",
       "  <tbody>\n",
       "    <tr>\n",
       "      <th>0</th>\n",
       "      <td>ca</td>\n",
       "      <td>4032.352424</td>\n",
       "    </tr>\n",
       "    <tr>\n",
       "      <th>1</th>\n",
       "      <td>noh</td>\n",
       "      <td>1718.620253</td>\n",
       "    </tr>\n",
       "    <tr>\n",
       "      <th>2</th>\n",
       "      <td>co</td>\n",
       "      <td>1630.459459</td>\n",
       "    </tr>\n",
       "    <tr>\n",
       "      <th>3</th>\n",
       "      <td>or</td>\n",
       "      <td>1526.247839</td>\n",
       "    </tr>\n",
       "    <tr>\n",
       "      <th>4</th>\n",
       "      <td>ak</td>\n",
       "      <td>1134.828151</td>\n",
       "    </tr>\n",
       "    <tr>\n",
       "      <th>5</th>\n",
       "      <td>az</td>\n",
       "      <td>1042.868304</td>\n",
       "    </tr>\n",
       "    <tr>\n",
       "      <th>6</th>\n",
       "      <td>nod</td>\n",
       "      <td>965.391548</td>\n",
       "    </tr>\n",
       "    <tr>\n",
       "      <th>7</th>\n",
       "      <td>oh</td>\n",
       "      <td>946.483843</td>\n",
       "    </tr>\n",
       "    <tr>\n",
       "      <th>8</th>\n",
       "      <td>al</td>\n",
       "      <td>880.620456</td>\n",
       "    </tr>\n",
       "    <tr>\n",
       "      <th>9</th>\n",
       "      <td>ar</td>\n",
       "      <td>860.294982</td>\n",
       "    </tr>\n",
       "    <tr>\n",
       "      <th>10</th>\n",
       "      <td>ok</td>\n",
       "      <td>775.772234</td>\n",
       "    </tr>\n",
       "  </tbody>\n",
       "</table>\n",
       "</div>"
      ],
      "text/plain": [
       "   state  average_rent\n",
       "0     ca   4032.352424\n",
       "1    noh   1718.620253\n",
       "2     co   1630.459459\n",
       "3     or   1526.247839\n",
       "4     ak   1134.828151\n",
       "5     az   1042.868304\n",
       "6    nod    965.391548\n",
       "7     oh    946.483843\n",
       "8     al    880.620456\n",
       "9     ar    860.294982\n",
       "10    ok    775.772234"
      ]
     },
     "execution_count": 49,
     "metadata": {},
     "output_type": "execute_result"
    }
   ],
   "source": [
    "avg_rental_value"
   ]
  },
  {
   "cell_type": "code",
   "execution_count": null,
   "id": "401f492c-4444-4b1c-99a7-87f109fc6a04",
   "metadata": {},
   "outputs": [],
   "source": []
  }
 ],
 "metadata": {
  "kernelspec": {
   "display_name": "Python 3 (ipykernel)",
   "language": "python",
   "name": "python3"
  },
  "language_info": {
   "codemirror_mode": {
    "name": "ipython",
    "version": 3
   },
   "file_extension": ".py",
   "mimetype": "text/x-python",
   "name": "python",
   "nbconvert_exporter": "python",
   "pygments_lexer": "ipython3",
   "version": "3.11.5"
  }
 },
 "nbformat": 4,
 "nbformat_minor": 5
}
